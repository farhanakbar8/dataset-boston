{
 "cells": [
  {
   "cell_type": "markdown",
   "metadata": {},
   "source": [
    "## Import Libraries"
   ]
  },
  {
   "cell_type": "code",
   "execution_count": 48,
   "metadata": {},
   "outputs": [],
   "source": [
    "import numpy as np\n",
    "import pandas as pd\n",
    "from niapy.problems import Problem\n",
    "from niapy.task import Task, OptimizationType\n",
    "from niapy.algorithms.modified import HybridBatAlgorithm\n",
    "from sklearn.neighbors import KNeighborsClassifier\n",
    "from sklearn.model_selection import train_test_split, cross_val_score\n",
    "import matplotlib.pyplot as plt "
   ]
  },
  {
   "cell_type": "markdown",
   "metadata": {},
   "source": [
    "## Load Dataset"
   ]
  },
  {
   "cell_type": "code",
   "execution_count": 49,
   "metadata": {},
   "outputs": [],
   "source": [
    "df_train = pd.read_excel('./data_set/boston_train.xlsx')\n",
    "df_test = pd.read_excel('./data_set/boston_test.xlsx')"
   ]
  },
  {
   "cell_type": "markdown",
   "metadata": {},
   "source": [
    "## Data Splitting"
   ]
  },
  {
   "cell_type": "code",
   "execution_count": 50,
   "metadata": {},
   "outputs": [],
   "source": [
    "df_train_y = df_train['CHAS']\n",
    "df_test_y = df_test['CHAS']"
   ]
  },
  {
   "cell_type": "code",
   "execution_count": 51,
   "metadata": {},
   "outputs": [],
   "source": [
    "df_train = df_train.drop(columns=['CHAS'])\n",
    "df_test = df_test.drop(columns=['CHAS'])\n",
    "X = np.array(df_train)\n",
    "y = np.array(df_train_y)"
   ]
  },
  {
   "cell_type": "code",
   "execution_count": 52,
   "metadata": {},
   "outputs": [],
   "source": [
    "X_search, X_validate, y_search, y_validate = train_test_split(X, y, test_size=0.8, random_state=1234)\n",
    "X_search_train, X_search_test, y_search_train, y_search_test = train_test_split(X_search, y_search, test_size=0.8, random_state=1234)"
   ]
  },
  {
   "cell_type": "markdown",
   "metadata": {},
   "source": [
    "## Optimizer"
   ]
  },
  {
   "cell_type": "code",
   "execution_count": 53,
   "metadata": {},
   "outputs": [],
   "source": [
    "def get_hyperparameters(x):\n",
    "    \"\"\"Get hyperparameters for solution `x`.\"\"\"\n",
    "    algorithms = ('ball_tree', 'kd_tree', 'brute')\n",
    "    n_neighbors = int(5 + x[0] * 10)\n",
    "    weights = 'uniform' if x[1] < 0.5 else 'distance'\n",
    "    algorithm = algorithms[int(x[2] * 2)]\n",
    "    leaf_size = int(10 + x[3] * 40)\n",
    "\n",
    "    params =  {\n",
    "        'n_neighbors': n_neighbors,\n",
    "        'weights': weights,\n",
    "        'algorithm': algorithm,\n",
    "        'leaf_size': leaf_size\n",
    "    }\n",
    "    return params"
   ]
  },
  {
   "cell_type": "code",
   "execution_count": 54,
   "metadata": {},
   "outputs": [],
   "source": [
    "def get_classifier(x):\n",
    "    \"\"\"Get classifier from solution `x`.\"\"\"\n",
    "    params = get_hyperparameters(x)\n",
    "    return KNeighborsClassifier(**params)"
   ]
  },
  {
   "cell_type": "code",
   "execution_count": 55,
   "metadata": {},
   "outputs": [],
   "source": [
    "class KNNHyperparameterOptimization(Problem):\n",
    "    def __init__(self, X_train, X_test, y_train, y_test):\n",
    "        super().__init__(dimension=4, lower=0, upper=1)\n",
    "        self.X_train = X_train\n",
    "        self.X_test = X_test\n",
    "        self.y_train = y_train\n",
    "        self.y_test = y_test\n",
    "\n",
    "    def _evaluate(self, x):\n",
    "        model = get_classifier(x)\n",
    "        model.fit(self.X_train, self.y_train)\n",
    "        return model.score(self.X_test, self.y_test)"
   ]
  },
  {
   "cell_type": "code",
   "execution_count": 56,
   "metadata": {},
   "outputs": [
    {
     "name": "stdout",
     "output_type": "stream",
     "text": [
      "Best parameters: {'n_neighbors': 5, 'weights': 'uniform', 'algorithm': 'kd_tree', 'leaf_size': 46}\n",
      "default model mean accuracy: 0.9135365853658536\n",
      "Best model mean accuracy: 0.9229166666666668\n"
     ]
    },
    {
     "data": {
      "image/png": "[encoded data removed]",
      "text/plain": [
       "<Figure size 432x288 with 1 Axes>"
      ]
     },
     "metadata": {
      "needs_background": "light"
     },
     "output_type": "display_data"
    }
   ],
   "source": [
    "problem = KNNHyperparameterOptimization(X_search_train, X_search_test, y_search_train, y_search_test)\n",
    "task = Task(problem, max_evals=100, optimization_type=OptimizationType.MAXIMIZATION)\n",
    "algorithm = HybridBatAlgorithm(population_size=40, differential_weight=0.8)\n",
    "\n",
    "best_params, best_accuracy = algorithm.run(task)\n",
    "\n",
    "print('Best parameters:', get_hyperparameters(best_params))\n",
    "\n",
    "best_model = get_classifier(best_params)\n",
    "default_model = KNeighborsClassifier()\n",
    "\n",
    "default_scores = cross_val_score(default_model, X, y, cv=10, n_jobs=-1)\n",
    "best_scores = cross_val_score(best_model, X_validate, y_validate, cv=10, n_jobs=-1)\n",
    "\n",
    "print('default model mean accuracy:', default_scores.mean())\n",
    "print('Best model mean accuracy:', best_scores.mean())\n",
    "\n",
    "plt.boxplot([best_scores, default_scores], vert=True)\n",
    "plt.xticks(ticks=[1, 2], labels=['Best', 'Default'])\n",
    "plt.title('10-fold cross-validation accuracies')\n",
    "\n",
    "plt.savefig('chart.png')"
   ]
  },
  {
   "cell_type": "code",
   "execution_count": null,
   "metadata": {},
   "outputs": [],
   "source": []
  },
  {
   "cell_type": "code",
   "execution_count": null,
   "metadata": {},
   "outputs": [],
   "source": []
  },
  {
   "cell_type": "code",
   "execution_count": null,
   "metadata": {},
   "outputs": [],
   "source": []
  }
 ],
 "metadata": {
  "kernelspec": {
   "display_name": "Python 3.9.6 64-bit",
   "language": "python",
   "name": "python3"
  },
  "language_info": {
   "codemirror_mode": {
    "name": "ipython",
    "version": 3
   },
   "file_extension": ".py",
   "mimetype": "text/x-python",
   "name": "python",
   "nbconvert_exporter": "python",
   "pygments_lexer": "ipython3",
   "version": "3.9.6"
  },
  "orig_nbformat": 4,
  "vscode": {
   "interpreter": {
    "hash": "14958d3aee5f1cad06795f787e54b96185c25fb40dfec723a5be941f3a531b8c"
   }
  }
 },
 "nbformat": 4,
 "nbformat_minor": 2
}
